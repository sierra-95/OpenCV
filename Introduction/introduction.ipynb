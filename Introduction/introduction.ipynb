{
 "cells": [
  {
   "cell_type": "code",
   "execution_count": 1,
   "id": "17b55c04-14f2-41d3-bf0f-fed164045fee",
   "metadata": {},
   "outputs": [],
   "source": [
    "import os\n",
    "import cv2\n",
    "import numpy as np\n",
    "import matplotlib.pyplot as plt\n",
    "\n",
    "from zipfile import ZipFile\n",
    "from urllib.request import urlretrieve\n",
    "\n",
    "from IPython.display import Image\n",
    "\n",
    "%matplotlib inline"
   ]
  },
  {
   "cell_type": "markdown",
   "id": "39753434",
   "metadata": {},
   "source": [
    "- **`import cv2`**: Imports the OpenCV library, which is used for computer vision tasks and image processing.\n",
    "- **`import numpy as np`**: Imports the NumPy library, essential for numerical computations and handling arrays.\n",
    "- **`import matplotlib.pyplot as plt`**: Imports the Matplotlib library's plotting module for creating visualizations.\n",
    "- **`from zipfile import ZipFile`**: Allows working with ZIP files, including extracting and creating ZIP archives.\n",
    "- **`from urllib.request import urlretrieve`**: Enables downloading files from the internet using a specified URL.\n",
    "- **`from IPython.display import Image`**: Allows displaying images in Jupyter notebooks.\n",
    "- **`%matplotlib inline`**: A Jupyter magic command that enables inline plotting, displaying Matplotlib plots directly below the code cells.\n"
   ]
  },
  {
   "cell_type": "code",
   "execution_count": 4,
   "id": "bcfb5f54-9c18-4a59-8a79-fd7ba2f56d21",
   "metadata": {},
   "outputs": [],
   "source": [
    "def download_and_unzip(url, save_path):\n",
    "    print(\"Download initiated\", end=\"\")\n",
    "\n",
    "    #Download the zip file\n",
    "    urlretrieve(url, save_path)\n",
    "\n",
    "    #Extract Zip file\n",
    "    try:\n",
    "        with ZipFile(save_path) as z:\n",
    "            #extractall() specifies the directory where the files will be extracted.\n",
    "            z.extractall(os.path.split(save_path)[0])            \n",
    "            print(\"Done\")\n",
    "    except Exception as e:\n",
    "        print(\"\\n Invalid file\")"
   ]
  },
  {
   "cell_type": "markdown",
   "id": "8c56ef7b",
   "metadata": {},
   "source": [
    "-> If `save_path` is `\"cwd/opencv_bootcamp_assets_NB1.zip\"`, `os.path.split(save_path)` would return `(\"cwd\", \"opencv_bootcamp_assets_NB1.zip\")` as a tuple.\n",
    "\n",
    "-> `[0]` accesses the directory path `\"cwd\"`.\n"
   ]
  },
  {
   "cell_type": "code",
   "execution_count": 3,
   "id": "a281fe99-97b7-4d9b-8dc8-daab3716de36",
   "metadata": {},
   "outputs": [],
   "source": [
    "URL = r\"https://www.dropbox.com/s/qhhlqcica1nvtaw/opencv_bootcamp_assets_NB1.zip?dl=1\"\n",
    "#os.getcwd() returns pwd as a string\n",
    "#This is joined os.path.join with the text to form /cwd/opencv...\n",
    "asset_zip_path = os.path.join(os.getcwd(), f\"opencv_bootcamp_assets_NB1.zip\")\n",
    "\n",
    "#check if path exists\n",
    "if not os.path.exists(asset_zip_path):\n",
    "    download_and_unzip(URL, asset_zip_path)"
   ]
  },
  {
   "cell_type": "code",
   "execution_count": 6,
   "id": "66befe46-0dcd-4572-8636-a0fc383f309a",
   "metadata": {},
   "outputs": [
    {
     "data": {
      "image/png": "[encoded data removed]",
      "text/plain": [
       "<IPython.core.display.Image object>"
      ]
     },
     "execution_count": 6,
     "metadata": {},
     "output_type": "execute_result"
    }
   ],
   "source": [
    "'''\n",
    "Lesson 1\n",
    "Reading and Displaying Images\n",
    "'''\n",
    "Image(filename=\"checkerboard_18x18.png\")"
   ]
  },
  {
   "cell_type": "markdown",
   "id": "56713ebb",
   "metadata": {},
   "source": [
    "#### Reading Images using OpenCV\n",
    "\n",
    "-> We use `cv2.imread()`\n",
    "\n",
    "-> `retval = cv2.imread(filename, flags)` ::: `filename` is a mandatory argument; `flags` is `1` by default.\n",
    "\n",
    "##### Flags: \n",
    "1. `cv2.IMREAD_GRAYSCALE` or `0`: Loads image in grayscale mode\n",
    "2. `cv2.IMREAD_COLOR` or `1`: Loads a color image. Any transparency of the image will be neglected. It is the default flag.\n",
    "3. `cv2.IMREAD_UNCHANGED` or `-1`: Loads the image as is, including the alpha channel.\n",
    "\n",
    "###### Examples:\n",
    "1. `retval = cv2.imread('image.png', cv2.IMREAD_GRAYSCALE)` \n",
    "2. `retval = cv2.imread(\"image.png\", 0)`\n"
   ]
  },
  {
   "cell_type": "code",
   "execution_count": 14,
   "id": "1e88925f",
   "metadata": {},
   "outputs": [
    {
     "name": "stdout",
     "output_type": "stream",
     "text": [
      "[[  0   0   0   0   0   0 255 255 255 255 255 255   0   0   0   0   0   0]\n",
      " [  0   0   0   0   0   0 255 255 255 255 255 255   0   0   0   0   0   0]\n",
      " [  0   0   0   0   0   0 255 255 255 255 255 255   0   0   0   0   0   0]\n",
      " [  0   0   0   0   0   0 255 255 255 255 255 255   0   0   0   0   0   0]\n",
      " [  0   0   0   0   0   0 255 255 255 255 255 255   0   0   0   0   0   0]\n",
      " [  0   0   0   0   0   0 255 255 255 255 255 255   0   0   0   0   0   0]\n",
      " [255 255 255 255 255 255   0   0   0   0   0   0 255 255 255 255 255 255]\n",
      " [255 255 255 255 255 255   0   0   0   0   0   0 255 255 255 255 255 255]\n",
      " [255 255 255 255 255 255   0   0   0   0   0   0 255 255 255 255 255 255]\n",
      " [255 255 255 255 255 255   0   0   0   0   0   0 255 255 255 255 255 255]\n",
      " [255 255 255 255 255 255   0   0   0   0   0   0 255 255 255 255 255 255]\n",
      " [255 255 255 255 255 255   0   0   0   0   0   0 255 255 255 255 255 255]\n",
      " [  0   0   0   0   0   0 255 255 255 255 255 255   0   0   0   0   0   0]\n",
      " [  0   0   0   0   0   0 255 255 255 255 255 255   0   0   0   0   0   0]\n",
      " [  0   0   0   0   0   0 255 255 255 255 255 255   0   0   0   0   0   0]\n",
      " [  0   0   0   0   0   0 255 255 255 255 255 255   0   0   0   0   0   0]\n",
      " [  0   0   0   0   0   0 255 255 255 255 255 255   0   0   0   0   0   0]\n",
      " [  0   0   0   0   0   0 255 255 255 255 255 255   0   0   0   0   0   0]]\n"
     ]
    }
   ],
   "source": [
    "retval = cv2.imread(\"checkerboard_18x18.png\",0)\n",
    "print(retval)"
   ]
  },
  {
   "cell_type": "code",
   "execution_count": 28,
   "id": "86bc1362",
   "metadata": {},
   "outputs": [
    {
     "name": "stdout",
     "output_type": "stream",
     "text": [
      "Image dimensions (H, W, C) is :(18, 18)\n",
      "Image data type is :uint8\n"
     ]
    }
   ],
   "source": [
    "'''Display Image Attributes'''\n",
    "print(f\"Image dimensions (H, W) is :{retval.shape}\")\n",
    "print(f\"Image data type is :{retval.dtype}\")"
   ]
  },
  {
   "cell_type": "code",
   "execution_count": 20,
   "id": "16b85174",
   "metadata": {},
   "outputs": [
    {
     "data": {
      "image/png": "[encoded data removed]",
      "text/plain": [
       "<Figure size 640x480 with 1 Axes>"
      ]
     },
     "metadata": {},
     "output_type": "display_data"
    }
   ],
   "source": [
    "'''Display Image using MatPlotLib'''\n",
    "plt.imshow(retval)\n",
    "plt.show() #image wont show without this, only address"
   ]
  },
  {
   "cell_type": "markdown",
   "id": "40c5e125",
   "metadata": {},
   "source": [
    "Even though the image was read in as a grayscale image, \n",
    "\n",
    "`retval = cv2.imread(\"checkerboard_18x18.png\", 0)` \n",
    "(0 for grayscale) \n",
    "\n",
    "it won't necessarily display in grayscale when using `imshow()`.\n",
    "\n",
    "##### Note:\n",
    "- Matplotlib uses different color maps, and it's possible that the grayscale color map is not set.\n",
    "\n",
    "-> To display grayscale using `matplotlib.pyplot`, use `cmap='gray'`.\n"
   ]
  },
  {
   "cell_type": "code",
   "execution_count": null,
   "id": "50ac8cdf",
   "metadata": {},
   "outputs": [],
   "source": [
    "retval_fuzzy = cv2.imread('checkerboard_fuzzy_18x18.jpg', 0)\n",
    "print(retval_fuzzy)\n",
    "plt.imshow(retval_fuzzy, cmap='gray')\n",
    "plt.show()"
   ]
  },
  {
   "cell_type": "code",
   "execution_count": null,
   "id": "d263365f",
   "metadata": {},
   "outputs": [],
   "source": [
    "'''\n",
    "Lesson 2:\n",
    "Handling Channels\n",
    "'''\n",
    "Image(filename='coca-cola-logo.png')"
   ]
  },
  {
   "cell_type": "markdown",
   "id": "8b767b23",
   "metadata": {},
   "source": [
    "#### Channels refers to the number of color channels in the image:\n",
    "\n",
    "- **1 Channel**: Grayscale images (black and white) have a single channel.\n",
    "- **3 Channels**: RGB (Red, Green, Blue) images have three channels, where each channel represents the intensity of the respective color at each pixel.\n",
    "- **4 Channels**: RGBA images have four channels, adding an alpha channel for transparency.\n",
    "\n",
    "##### Example:\n",
    "```python\n",
    "print(\"Image size (H, W, C) is:\", coke_img.shape)\n"
   ]
  },
  {
   "cell_type": "code",
   "execution_count": 29,
   "id": "fc67ca8b",
   "metadata": {},
   "outputs": [
    {
     "name": "stdout",
     "output_type": "stream",
     "text": [
      "Image Dimensions: (700, 700, 3)\n",
      "image DataType: uint8\n"
     ]
    }
   ],
   "source": [
    "'''Read and Display Color'''\n",
    "retval_coke = cv2.imread('coca-cola-logo.png', 1)\n",
    "print(f\"Image Dimensions: {retval_coke.shape}\")\n",
    "print(f'image DataType: {retval_coke.dtype}')\n"
   ]
  },
  {
   "cell_type": "code",
   "execution_count": null,
   "id": "4c681a78",
   "metadata": {},
   "outputs": [],
   "source": [
    "plt.imshow(retval_coke) #This displays a blue coke instead of red."
   ]
  },
  {
   "cell_type": "markdown",
   "id": "da792881",
   "metadata": {},
   "source": [
    "#### This displays a blue coke instead of red.\n",
    "This is because Matplotlib expects the image in RGB format, whereas OpenCV stores images in BGR format.\n",
    "\n",
    "To convert BGR to RGB, you can use:\n",
    "1. Numpy slicing: `[:, :, ::-1]`\n",
    "\n",
    "2. OpenCV function: `cv2.cvtColor(bgr_img, cv2.COLOR_BGR2RGB)`\n"
   ]
  },
  {
   "cell_type": "code",
   "execution_count": null,
   "id": "299bf116",
   "metadata": {},
   "outputs": [],
   "source": [
    "'''Reversing BGR to RBG'''\n",
    "retval_coke_Numpy_Slicing = retval_coke[:, :, ::-1]\n",
    "retval_coke_OpenCV_Func = cv2.cvtColor(retval_coke, cv2.COLOR_BGR2RGB)\n",
    "#Both should return the same thing.\n",
    "plt.imshow(retval_coke_Numpy_Slicing)\n",
    "plt.show()"
   ]
  },
  {
   "cell_type": "code",
   "execution_count": null,
   "id": "cb771b3e",
   "metadata": {},
   "outputs": [],
   "source": []
  }
 ],
 "metadata": {
  "kernelspec": {
   "display_name": "opencv-env",
   "language": "python",
   "name": "python3"
  },
  "language_info": {
   "codemirror_mode": {
    "name": "ipython",
    "version": 3
   },
   "file_extension": ".py",
   "mimetype": "text/x-python",
   "name": "python",
   "nbconvert_exporter": "python",
   "pygments_lexer": "ipython3",
   "version": "3.12.7"
  }
 },
 "nbformat": 4,
 "nbformat_minor": 5
}
