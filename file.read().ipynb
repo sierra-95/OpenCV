{
 "cells": [
  {
   "cell_type": "markdown",
   "metadata": {},
   "source": [
    "### Reading files"
   ]
  },
  {
   "cell_type": "code",
   "execution_count": null,
   "metadata": {},
   "outputs": [],
   "source": [
    "file = open(\"filename.txt\", 'mode')\n",
    "file.close() \n"
   ]
  },
  {
   "cell_type": "markdown",
   "metadata": {},
   "source": [
    "\n",
    "1. \"r\"\tRead-only mode (default). Fails if the file doesn't exist.\n",
    "\n",
    "2. \"w\"\tWrite-only mode. Creates a new file or overwrites an existing file.\n",
    "\n",
    "3. \"a\"\tAppend mode. Writes data at the end of the file without truncating.\n",
    "\n",
    "4. \"r+\"\tRead and write. Fails if the file doesn't exist.\n",
    "\n",
    "5. \"w+\"\tWrite and read. Overwrites an existing file or creates a new one.\n",
    "\n",
    "6. \"a+\"\tAppend and read. Creates the file if it doesn’t exist.\n",
    "\n",
    "7. \"b\"\tBinary mode (used with other modes, e.g., \"rb\" for binary read)."
   ]
  },
  {
   "cell_type": "markdown",
   "metadata": {},
   "source": [
    "#### The with statement is recommended because it automatically closes the file after use, even if an error occurs:"
   ]
  },
  {
   "cell_type": "code",
   "execution_count": 3,
   "metadata": {},
   "outputs": [
    {
     "name": "stdout",
     "output_type": "stream",
     "text": [
      "Dec   Char                            Dec   Char        Dec   Char        Dec   Char\n",
      "---------                            ---------        ---------        ----------\n",
      "  0   NUL (null)                       32   SPACE        64   @            96   `\n",
      "  1   SOH (start of heading)           33   !            65   A            97   a\n",
      "  2   STX (start of text)              34   \"            66   B            98   b\n",
      "  3   ETX (end of text)                35   #            67   C            99   c\n",
      "  4   EOT (end of transmission)        36   $            68   D           100   d\n",
      "  5   ENQ (enquiry)                    37   %            69   E           101   e\n",
      "  6   ACK (acknowledge)                38   &            70   F           102   f\n",
      "  7   BEL (bell)                       39   '            71   G           103   g\n",
      "  8   BS  (backspace)                  40   (            72   H           104   h\n",
      "  9   TAB (horizontal tab)             41   )            73   I           105   i\n",
      " 10   LF  (NL line feed, new line)     42   *            74   J           106   j\n",
      " 11   VT  (vertical tab)               43   +            75   K           107   k\n",
      " 12   FF  (NP form feed, new page)     44   ,            76   L           108   l\n",
      " 13   CR  (carriage return)            45   -            77   M           109   m\n",
      " 14   SO  (shift out)                  46   .            78   N           110   n\n",
      " 15   SI  (shift in)                   47   /            79   O           111   o\n",
      " 16   DLE (data link escape)           48   0            80   P           112   p\n",
      " 17   DC1 (device control 1)           49   1            81   Q           113   q\n",
      " 18   DC2 (device control 2)           50   2            82   R           114   r\n",
      " 19   DC3 (device control 3)           51   3            83   S           115   s\n",
      " 20   DC4 (device control 4)           52   4            84   T           116   t\n",
      " 21   NAK (negative acknowledge)       53   5            85   U           117   u\n",
      " 22   SYN (synchronous idle)           54   6            86   V           118   v\n",
      " 23   ETB (end of trans. block)        55   7            87   W           119   w\n",
      " 24   CAN (cancel)                     56   8            88   X           120   x\n",
      " 25   EM  (end of medium)              57   9            89   Y           121   y\n",
      " 26   SUB (substitute)                 58   :            90   Z           122   z\n",
      " 27   ESC (escape)                     59   ;            91   [           123   {\n",
      " 28   FS  (file separator)             60   <            92   \\           124   |\n",
      " 29   GS  (group separator)            61   =            93   ]           125   }\n",
      " 30   RS  (record separator)           62   >            94   ^           126   ~\n",
      " 31   US  (unit separator)             63   ?            95   _           127   DEL\n",
      "\n"
     ]
    }
   ],
   "source": [
    "'''\n",
    "Read entire file\n",
    "'''\n",
    "with open(\"Ascii.txt\", \"r\") as file:\n",
    "    content = file.read()\n",
    "print(content)\n"
   ]
  },
  {
   "cell_type": "code",
   "execution_count": 7,
   "metadata": {},
   "outputs": [
    {
     "name": "stdout",
     "output_type": "stream",
     "text": [
      "Dec   Char                            Dec   Char        Dec   Char        Dec   Char\n",
      "---------                            ---------        ---------        ----------\n",
      "0   NUL (null)                       32   SPACE        64   @            96   `\n",
      "1   SOH (start of heading)           33   !            65   A            97   a\n",
      "2   STX (start of text)              34   \"            66   B            98   b\n",
      "3   ETX (end of text)                35   #            67   C            99   c\n",
      "4   EOT (end of transmission)        36   $            68   D           100   d\n",
      "5   ENQ (enquiry)                    37   %            69   E           101   e\n",
      "6   ACK (acknowledge)                38   &            70   F           102   f\n",
      "7   BEL (bell)                       39   '            71   G           103   g\n",
      "8   BS  (backspace)                  40   (            72   H           104   h\n",
      "9   TAB (horizontal tab)             41   )            73   I           105   i\n",
      "10   LF  (NL line feed, new line)     42   *            74   J           106   j\n",
      "11   VT  (vertical tab)               43   +            75   K           107   k\n",
      "12   FF  (NP form feed, new page)     44   ,            76   L           108   l\n",
      "13   CR  (carriage return)            45   -            77   M           109   m\n",
      "14   SO  (shift out)                  46   .            78   N           110   n\n",
      "15   SI  (shift in)                   47   /            79   O           111   o\n",
      "16   DLE (data link escape)           48   0            80   P           112   p\n",
      "17   DC1 (device control 1)           49   1            81   Q           113   q\n",
      "18   DC2 (device control 2)           50   2            82   R           114   r\n",
      "19   DC3 (device control 3)           51   3            83   S           115   s\n",
      "20   DC4 (device control 4)           52   4            84   T           116   t\n",
      "21   NAK (negative acknowledge)       53   5            85   U           117   u\n",
      "22   SYN (synchronous idle)           54   6            86   V           118   v\n",
      "23   ETB (end of trans. block)        55   7            87   W           119   w\n",
      "24   CAN (cancel)                     56   8            88   X           120   x\n",
      "25   EM  (end of medium)              57   9            89   Y           121   y\n",
      "26   SUB (substitute)                 58   :            90   Z           122   z\n",
      "27   ESC (escape)                     59   ;            91   [           123   {\n",
      "28   FS  (file separator)             60   <            92   \\           124   |\n",
      "29   GS  (group separator)            61   =            93   ]           125   }\n",
      "30   RS  (record separator)           62   >            94   ^           126   ~\n",
      "31   US  (unit separator)             63   ?            95   _           127   DEL\n"
     ]
    }
   ],
   "source": [
    "'''\n",
    "Read line by line\n",
    "'''\n",
    "with open('Ascii.txt', 'r') as file:\n",
    "    for line in file:\n",
    "        print(line.strip()) #.strip removes newline character"
   ]
  },
  {
   "cell_type": "code",
   "execution_count": 8,
   "metadata": {},
   "outputs": [
    {
     "name": "stdout",
     "output_type": "stream",
     "text": [
      "['Dec   Char                            Dec   Char        Dec   Char        Dec   Char\\n', '---------                            ---------        ---------        ----------\\n', '  0   NUL (null)                       32   SPACE        64   @            96   `\\n', '  1   SOH (start of heading)           33   !            65   A            97   a\\n', '  2   STX (start of text)              34   \"            66   B            98   b\\n', '  3   ETX (end of text)                35   #            67   C            99   c\\n', '  4   EOT (end of transmission)        36   $            68   D           100   d\\n', '  5   ENQ (enquiry)                    37   %            69   E           101   e\\n', '  6   ACK (acknowledge)                38   &            70   F           102   f\\n', \"  7   BEL (bell)                       39   '            71   G           103   g\\n\", '  8   BS  (backspace)                  40   (            72   H           104   h\\n', '  9   TAB (horizontal tab)             41   )            73   I           105   i\\n', ' 10   LF  (NL line feed, new line)     42   *            74   J           106   j\\n', ' 11   VT  (vertical tab)               43   +            75   K           107   k\\n', ' 12   FF  (NP form feed, new page)     44   ,            76   L           108   l\\n', ' 13   CR  (carriage return)            45   -            77   M           109   m\\n', ' 14   SO  (shift out)                  46   .            78   N           110   n\\n', ' 15   SI  (shift in)                   47   /            79   O           111   o\\n', ' 16   DLE (data link escape)           48   0            80   P           112   p\\n', ' 17   DC1 (device control 1)           49   1            81   Q           113   q\\n', ' 18   DC2 (device control 2)           50   2            82   R           114   r\\n', ' 19   DC3 (device control 3)           51   3            83   S           115   s\\n', ' 20   DC4 (device control 4)           52   4            84   T           116   t\\n', ' 21   NAK (negative acknowledge)       53   5            85   U           117   u\\n', ' 22   SYN (synchronous idle)           54   6            86   V           118   v\\n', ' 23   ETB (end of trans. block)        55   7            87   W           119   w\\n', ' 24   CAN (cancel)                     56   8            88   X           120   x\\n', ' 25   EM  (end of medium)              57   9            89   Y           121   y\\n', ' 26   SUB (substitute)                 58   :            90   Z           122   z\\n', ' 27   ESC (escape)                     59   ;            91   [           123   {\\n', ' 28   FS  (file separator)             60   <            92   \\\\           124   |\\n', ' 29   GS  (group separator)            61   =            93   ]           125   }\\n', ' 30   RS  (record separator)           62   >            94   ^           126   ~\\n', ' 31   US  (unit separator)             63   ?            95   _           127   DEL\\n']\n"
     ]
    }
   ],
   "source": [
    "'''\n",
    "Reading into a list\n",
    "'''\n",
    "\n",
    "with open('Ascii.txt', 'r') as file:\n",
    "    lines = file.readlines()\n",
    "print(lines)    "
   ]
  },
  {
   "cell_type": "markdown",
   "metadata": {},
   "source": [
    "### Writing files"
   ]
  },
  {
   "cell_type": "code",
   "execution_count": 12,
   "metadata": {},
   "outputs": [],
   "source": [
    "'''\n",
    "Writing Text\n",
    "w - creates file if not exists\n",
    "'''\n",
    "with open('Hello_World.txt', 'w') as file:\n",
    "    file.write('Hello, World!\\n')"
   ]
  },
  {
   "cell_type": "code",
   "execution_count": 13,
   "metadata": {},
   "outputs": [],
   "source": [
    "'''\n",
    "Appending to a file\n",
    "'''\n",
    "with open('Hello_World.txt', 'a') as file:\n",
    "    file.write('Hello, World again! \\n')"
   ]
  },
  {
   "cell_type": "markdown",
   "metadata": {},
   "source": [
    "### Error Handling"
   ]
  },
  {
   "cell_type": "code",
   "execution_count": 14,
   "metadata": {},
   "outputs": [],
   "source": [
    "try:\n",
    "    with open('Ascii.txt', 'r') as file:\n",
    "        content = file.read()\n",
    "except FileNotFoundError:\n",
    "    print('File not found')\n",
    "except PermissionError:\n",
    "    print('No permission to read file')    \n",
    "except IOError:\n",
    "    print('Error reading the file')    "
   ]
  },
  {
   "cell_type": "code",
   "execution_count": null,
   "metadata": {},
   "outputs": [],
   "source": [
    "'''\n",
    "Check if file exist before opening\n",
    "Relative path checking in cwd\n",
    "'''\n",
    "\n",
    "import os\n",
    "if os.path.exists('Ascii.txt'):\n",
    "    with open('Ascii.txt', 'r') as file:\n",
    "        content = file.read()\n",
    "else:\n",
    "    print('File not found')        "
   ]
  },
  {
   "cell_type": "code",
   "execution_count": 16,
   "metadata": {},
   "outputs": [],
   "source": [
    "'''\n",
    "Complex check using absolute path\n",
    "'''\n",
    "import os\n",
    "\n",
    "absolute_path = os.path.join(os.getcwd(), 'Ascii.txt')\n",
    "if not os.path.exists(absolute_path):\n",
    "    print('File not found')\n"
   ]
  },
  {
   "cell_type": "code",
   "execution_count": 19,
   "metadata": {},
   "outputs": [
    {
     "name": "stdout",
     "output_type": "stream",
     "text": [
      "/home/lenovo2204/Documents/OpenCV\n"
     ]
    }
   ],
   "source": [
    "'''\n",
    "Print current directory\n",
    "'''\n",
    "file_path = os.getcwd()\n",
    "print(file_path)\n",
    "\n"
   ]
  }
 ],
 "metadata": {
  "kernelspec": {
   "display_name": "Michael",
   "language": "python",
   "name": "python3"
  },
  "language_info": {
   "codemirror_mode": {
    "name": "ipython",
    "version": 3
   },
   "file_extension": ".py",
   "mimetype": "text/x-python",
   "name": "python",
   "nbconvert_exporter": "python",
   "pygments_lexer": "ipython3",
   "version": "3.12.7"
  }
 },
 "nbformat": 4,
 "nbformat_minor": 2
}
