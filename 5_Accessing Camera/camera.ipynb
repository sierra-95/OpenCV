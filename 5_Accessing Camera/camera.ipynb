{
 "cells": [
  {
   "cell_type": "code",
   "execution_count": 3,
   "metadata": {},
   "outputs": [],
   "source": [
    "import cv2\n",
    "import sys\n",
    "import os\n",
    "os.environ['QT_QPA_PLATFORM'] = 'xcb'"
   ]
  },
  {
   "cell_type": "code",
   "execution_count": 5,
   "metadata": {},
   "outputs": [],
   "source": [
    "s = 0\n",
    "if len(sys.argv) > 1:\n",
    "    s = sys.argv[1]\n",
    "\n",
    "source = cv2.VideoCapture(s)\n",
    "\n",
    "win_name = 'Camera Preview'\n",
    "cv2.namedWindow(win_name, cv2.WINDOW_NORMAL)\n",
    "\n",
    "while cv2.waitKey(1) != 27: #release\n",
    "    has_frame, frame = source.read()\n",
    "    if not has_frame:\n",
    "        break\n",
    "    cv2.imshow(win_name, frame)\n",
    "source.release()\n",
    "cv2.destroyWindow(win_name)"
   ]
  },
  {
   "cell_type": "markdown",
   "metadata": {},
   "source": [
    "1. s= 0 corresponds to the first available camera( default is computer webcam)\n",
    "2. sys.argv allows you to specify a video file or diffrent camera device\n",
    "\n",
    "`source = cv2.videoCapture(s)`\n",
    "This initializes video capture using s = selected camera device\n",
    "\n",
    "`cv2.namedWindow(win_name, cv2.WINDOW_NORMAL)`\n",
    "Creates a window with the name 'Camera preview' and allows window size to be adjusted(window normal)\n",
    "\n",
    "##### Reading and displaying frames\n",
    "\n",
    "`cv2.waitkey(1) != 27`\n",
    "This waits for a keypress in the window. `1` means it checks for keypress every 1 millisecond. `27` corresponds to `escape key` used to exit the loop\n",
    "\n",
    "`has_frame, frame = source.read()`\n",
    "Reads the next frame from the video capture(source).\n",
    "`has_frame` holds boolean true | false indicating frame was succesfully read\n",
    "`frame` is the actual data\n",
    "\n",
    "`cv2.imshow(win_name, frame)` displays current frame in `camera_preview`\n",
    "\n",
    "`source.release()` release video capture object to free up resources(webcam)\n",
    "`cv2.destroyWindow(win_name)` close the window\n",
    "\n",
    "-> Cleanup is done using escape key or if no more frames are available.\n"
   ]
  }
 ],
 "metadata": {
  "kernelspec": {
   "display_name": "opencv-env",
   "language": "python",
   "name": "python3"
  },
  "language_info": {
   "codemirror_mode": {
    "name": "ipython",
    "version": 3
   },
   "file_extension": ".py",
   "mimetype": "text/x-python",
   "name": "python",
   "nbconvert_exporter": "python",
   "pygments_lexer": "ipython3",
   "version": "3.12.7"
  }
 },
 "nbformat": 4,
 "nbformat_minor": 2
}
